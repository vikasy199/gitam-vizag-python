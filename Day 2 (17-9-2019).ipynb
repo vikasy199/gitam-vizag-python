{
 "cells": [
  {
   "cell_type": "code",
   "execution_count": 1,
   "metadata": {},
   "outputs": [
    {
     "name": "stdout",
     "output_type": "stream",
     "text": [
      "20\n",
      "10\n"
     ]
    }
   ],
   "source": [
    "n = int(input())\n",
    "i = 1\n",
    "s = 0\n",
    "while i<= n:\n",
    "    if i % 2 == 0:\n",
    "        s = s + 1\n",
    "    i = i + 1\n",
    "print(s)"
   ]
  },
  {
   "cell_type": "code",
   "execution_count": 2,
   "metadata": {},
   "outputs": [
    {
     "name": "stdout",
     "output_type": "stream",
     "text": [
      "123\n",
      "3 2 1 "
     ]
    }
   ],
   "source": [
    "n=int(input())\n",
    "while n != 0:\n",
    "    print(n%10,end=' ')\n",
    "    n = n // 10"
   ]
  },
  {
   "cell_type": "code",
   "execution_count": 4,
   "metadata": {},
   "outputs": [
    {
     "data": {
      "text/plain": [
       "12"
      ]
     },
     "execution_count": 4,
     "metadata": {},
     "output_type": "execute_result"
    }
   ],
   "source": [
    "def evenDigitSum(n):\n",
    "    s = 0\n",
    "    while n != 0:\n",
    "        r = n % 10\n",
    "        if r % 2 == 0:\n",
    "            s = s + r\n",
    "        n = n // 10\n",
    "    return s\n",
    "evenDigitSum(12346)"
   ]
  },
  {
   "cell_type": "code",
   "execution_count": 5,
   "metadata": {},
   "outputs": [
    {
     "name": "stdout",
     "output_type": "stream",
     "text": [
      "Enter a Number :12345\n",
      "\n",
      "Largest digit is : 5\n"
     ]
    }
   ],
   "source": [
    "n = int(input(\"Enter a Number :\"))\n",
    "\n",
    "ld = 0\n",
    "while n > 0:\n",
    "    r = n % 10\n",
    "    if ld < r:\n",
    "        ld = r\n",
    "    n = int(n / 10)\n",
    "\n",
    "print(\"\\nLargest digit is :\", ld)"
   ]
  },
  {
   "cell_type": "code",
   "execution_count": 8,
   "metadata": {},
   "outputs": [
    {
     "name": "stdout",
     "output_type": "stream",
     "text": [
      "12345\n",
      "5\n"
     ]
    }
   ],
   "source": [
    "def largest(n):\n",
    "    l = 0\n",
    "    while n > 0:\n",
    "        r = n % 10\n",
    "        if l < r:\n",
    "            l = r\n",
    "        n = int(n / 10)\n",
    "    return l\n",
    "n = int(input())\n",
    "print(largest(n))"
   ]
  },
  {
   "cell_type": "code",
   "execution_count": 5,
   "metadata": {},
   "outputs": [
    {
     "name": "stdout",
     "output_type": "stream",
     "text": [
      "123\n",
      "no\n"
     ]
    }
   ],
   "source": [
    "def factorial(n): \n",
    "    fact = 1\n",
    "    while (n != 0): \n",
    "        fact = fact * n \n",
    "        n = n - 1\n",
    "    return fact \n",
    "def factsum(n):\n",
    "    sum = 0\n",
    "    temp = n\n",
    "    while(temp != 0):\n",
    "        sum = sum + factorial(temp % 10) \n",
    "        temp = temp / 10\n",
    "        return (sum == n)\n",
    "n=int(input())\n",
    "if(factsum(n)):\n",
    "    print(\"yes\")\n",
    "else:\n",
    "    print(\"no\")"
   ]
  },
  {
   "cell_type": "code",
   "execution_count": 7,
   "metadata": {},
   "outputs": [
    {
     "name": "stdout",
     "output_type": "stream",
     "text": [
      "Please Enter any Number: 121\n",
      "Reverse of a Given number is = 121\n",
      "121 is a Palindrome Number\n"
     ]
    }
   ],
   "source": [
    "reverse = 0\n",
    "def integer_reverse(number):\n",
    "    global reverse\n",
    "    if(number > 0):\n",
    "        Reminder = number % 10\n",
    "        reverse = (reverse * 10) + Reminder\n",
    "        integer_reverse(number // 10)\n",
    "    return reverse\n",
    "number = int(input(\"Please Enter any Number: \"))\n",
    "rev = integer_reverse(number)\n",
    "print(\"Reverse of a Given number is = %d\" %rev)\n",
    "if(number == rev):\n",
    "    print(\"%d is a Palindrome Number\" %number)\n",
    "else:\n",
    "    print(\"%d is not a Palindrome Number\" %number)\n"
   ]
  },
  {
   "cell_type": "code",
   "execution_count": 8,
   "metadata": {},
   "outputs": [
    {
     "name": "stdout",
     "output_type": "stream",
     "text": [
      "1 2 3 4 5 6 7 8 9 10 "
     ]
    }
   ],
   "source": [
    "def printSeries(a,b):\n",
    "    for i in range(a, b + 1):\n",
    "        print(i, end=' ')\n",
    "printSeries(1,10)"
   ]
  },
  {
   "cell_type": "code",
   "execution_count": 9,
   "metadata": {},
   "outputs": [
    {
     "name": "stdout",
     "output_type": "stream",
     "text": [
      "1 3 5 7 9 "
     ]
    }
   ],
   "source": [
    "def printSeries(a,b):\n",
    "    for i in range(a, b + 1, 2):\n",
    "        print(i, end=' ')\n",
    "printSeries(1,10)"
   ]
  },
  {
   "cell_type": "code",
   "execution_count": null,
   "metadata": {
    "collapsed": true
   },
   "outputs": [],
   "source": []
  },
  {
   "cell_type": "code",
   "execution_count": null,
   "metadata": {
    "collapsed": true
   },
   "outputs": [],
   "source": []
  },
  {
   "cell_type": "code",
   "execution_count": null,
   "metadata": {
    "collapsed": true
   },
   "outputs": [],
   "source": []
  },
  {
   "cell_type": "code",
   "execution_count": null,
   "metadata": {
    "collapsed": true
   },
   "outputs": [],
   "source": []
  },
  {
   "cell_type": "code",
   "execution_count": null,
   "metadata": {
    "collapsed": true
   },
   "outputs": [],
   "source": []
  },
  {
   "cell_type": "code",
   "execution_count": null,
   "metadata": {
    "collapsed": true
   },
   "outputs": [],
   "source": []
  }
 ],
 "metadata": {
  "kernelspec": {
   "display_name": "Python 3",
   "language": "python",
   "name": "python3"
  },
  "language_info": {
   "codemirror_mode": {
    "name": "ipython",
    "version": 3
   },
   "file_extension": ".py",
   "mimetype": "text/x-python",
   "name": "python",
   "nbconvert_exporter": "python",
   "pygments_lexer": "ipython3",
   "version": "3.6.3"
  }
 },
 "nbformat": 4,
 "nbformat_minor": 2
}
