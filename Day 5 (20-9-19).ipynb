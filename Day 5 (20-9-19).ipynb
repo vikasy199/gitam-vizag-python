{
 "cells": [
  {
   "cell_type": "code",
   "execution_count": 1,
   "metadata": {
    "collapsed": true
   },
   "outputs": [],
   "source": [
    "import turtle\n",
    " \n",
    "car = turtle.Turtle()\n",
    " \n",
    "#Below code for drawing rectanglura upper body\n",
    "car.color('#2B2BF6')\n",
    "car.fillcolor('#2B2BF6')\n",
    "car.penup()\n",
    "car.goto(0,0)\n",
    "car.pendown()\n",
    "car.begin_fill()\n",
    "car.forward(370)\n",
    "car.left(90)\n",
    "car.forward(50)\n",
    "car.left(90)\n",
    "car.forward(370)\n",
    "car.left(90)\n",
    "car.forward(50)\n",
    "car.end_fill()\n",
    " \n",
    "#Below code for drawing window and roof\n",
    "car.penup()\n",
    "car.goto(100, 50)\n",
    "car.pendown()\n",
    "car.setheading(45)\n",
    "car.forward(70)\n",
    "car.setheading(0)\n",
    "car.forward(100)\n",
    "car.setheading(-45)\n",
    "car.forward(70)\n",
    "car.setheading(90)\n",
    "car.penup()\n",
    "car.goto(200, 50)\n",
    "car.pendown()\n",
    "car.forward(49.50)\n",
    " \n",
    "#Below code for drawing two tyres\n",
    "car.penup()\n",
    "car.goto(100, -10)\n",
    "car.pendown()\n",
    "car.color('#000000')\n",
    "car.fillcolor('#000000')\n",
    "car.begin_fill()\n",
    "car.circle(20)\n",
    "car.end_fill()\n",
    "car.penup()\n",
    "car.goto(300, -10)\n",
    "car.pendown()\n",
    "car.color('#000000')\n",
    "car.fillcolor('#000000')\n",
    "car.begin_fill()\n",
    "car.circle(20)\n",
    "car.end_fill()\n",
    " \n",
    "car.hideturtle()"
   ]
  },
  {
   "cell_type": "code",
   "execution_count": 2,
   "metadata": {},
   "outputs": [
    {
     "name": "stdout",
     "output_type": "stream",
     "text": [
      "5 4 3 2 1 \n",
      "5 4 3 2 1 "
     ]
    }
   ],
   "source": [
    "### idiomatic python \n",
    "li = [1,2,3,4,5]\n",
    "for i in range(len(li)-1,-1,-1):\n",
    "    print(li[i],end = ' ')\n",
    "print()\n",
    "### Python Way\n",
    "for i in reversed(li):\n",
    "    print(i,end = ' ')"
   ]
  },
  {
   "cell_type": "code",
   "execution_count": 3,
   "metadata": {},
   "outputs": [
    {
     "name": "stdout",
     "output_type": "stream",
     "text": [
      "0 --> 1\n",
      "1 --> 2\n",
      "2 --> 3\n",
      "3 --> 4\n",
      "4 --> 5\n"
     ]
    }
   ],
   "source": [
    "for i,a in enumerate(li):\n",
    "    print(i,'-->',a)"
   ]
  },
  {
   "cell_type": "code",
   "execution_count": 4,
   "metadata": {},
   "outputs": [
    {
     "name": "stdout",
     "output_type": "stream",
     "text": [
      "1   1\n",
      "2   2\n",
      "3   3\n",
      "4   4\n",
      "5   5\n"
     ]
    }
   ],
   "source": [
    "li = [1,2,3,4,5]\n",
    "a = [1,2,3,4,5,6,7,8]\n",
    "for i,a in zip(li,a):\n",
    "    print(i,' ',a)"
   ]
  },
  {
   "cell_type": "code",
   "execution_count": 5,
   "metadata": {},
   "outputs": [
    {
     "name": "stdout",
     "output_type": "stream",
     "text": [
      "5 4 3 2 1 "
     ]
    }
   ],
   "source": [
    "for i in sorted(li,reverse=True):\n",
    "    print(i,end=' ')"
   ]
  },
  {
   "cell_type": "code",
   "execution_count": 13,
   "metadata": {},
   "outputs": [],
   "source": [
    "d = {'Name':'Gitam','Email':'vikasy199@gmail.com'}\n",
    "if k.startswith('N'):\n",
    "    print(d,end=' ')"
   ]
  },
  {
   "cell_type": "code",
   "execution_count": 14,
   "metadata": {},
   "outputs": [
    {
     "name": "stdout",
     "output_type": "stream",
     "text": [
      "285\n"
     ]
    }
   ],
   "source": [
    "print(sum(i ** 2 for i in range(10)))"
   ]
  },
  {
   "cell_type": "code",
   "execution_count": 16,
   "metadata": {},
   "outputs": [
    {
     "name": "stdout",
     "output_type": "stream",
     "text": [
      "[0, 1, 4, 9, 16, 25, 36, 49, 64, 81]\n"
     ]
    }
   ],
   "source": [
    "li1 = [i ** 2 for i in range(10)]\n",
    "print(li1)"
   ]
  },
  {
   "cell_type": "code",
   "execution_count": 17,
   "metadata": {},
   "outputs": [
    {
     "name": "stdout",
     "output_type": "stream",
     "text": [
      "[0, 4, 16, 36, 64]\n"
     ]
    }
   ],
   "source": [
    "li1 = [i ** 2 for i in range(10) if i % 2 == 0]\n",
    "print(li1)"
   ]
  },
  {
   "cell_type": "code",
   "execution_count": 20,
   "metadata": {},
   "outputs": [
    {
     "name": "stdout",
     "output_type": "stream",
     "text": [
      "100\n"
     ]
    }
   ],
   "source": [
    "a = lambda x : x * x\n",
    "print(a(10))"
   ]
  },
  {
   "cell_type": "code",
   "execution_count": 32,
   "metadata": {},
   "outputs": [
    {
     "name": "stdout",
     "output_type": "stream",
     "text": [
      "[2, 4, 6]\n"
     ]
    }
   ],
   "source": [
    "#lamda with filter\n",
    "li = [1,2,3,4,5,6]\n",
    "len_li = list(filter(lambda x : (x % 2==0),li))\n",
    "print(len_li)"
   ]
  },
  {
   "cell_type": "code",
   "execution_count": 33,
   "metadata": {},
   "outputs": [
    {
     "name": "stdout",
     "output_type": "stream",
     "text": [
      "[2, 4, 6, 8]\n"
     ]
    }
   ],
   "source": [
    "numbers = (1, 2, 3, 4) \n",
    "result = map(lambda x: x + x, numbers) \n",
    "print(list(result)) "
   ]
  },
  {
   "cell_type": "code",
   "execution_count": 36,
   "metadata": {},
   "outputs": [
    {
     "name": "stdout",
     "output_type": "stream",
     "text": [
      "36\n"
     ]
    }
   ],
   "source": [
    "from functools import reduce\n",
    "li = [1,2,3,4,5,6,7,8]\n",
    "s = reduce((lambda x,y:x+y),li)\n",
    "print(s)"
   ]
  },
  {
   "cell_type": "code",
   "execution_count": 42,
   "metadata": {},
   "outputs": [
    {
     "name": "stdout",
     "output_type": "stream",
     "text": [
      "s1    35\n",
      "s2    23\n",
      "s3    40\n",
      "dtype: int64\n",
      "     0\n",
      "s1  35\n",
      "s2  23\n",
      "s3  40\n"
     ]
    }
   ],
   "source": [
    "#pandas\n",
    "import pandas as pd\n",
    "int1 = {'s1':35,'s2':23,'s3':40}\n",
    "int1 = pd.Series(int1)\n",
    "int2 = pd.DataFrame(int1)\n",
    "print(int1)\n",
    "print(int2)"
   ]
  },
  {
   "cell_type": "code",
   "execution_count": 38,
   "metadata": {},
   "outputs": [
    {
     "name": "stdout",
     "output_type": "stream",
     "text": [
      "    Internal\n",
      "s1        35\n",
      "s2        23\n",
      "s3        40\n"
     ]
    }
   ],
   "source": [
    "final = {'Internal':int1}\n",
    "final = pd.DataFrame(final)\n",
    "print(final)"
   ]
  },
  {
   "cell_type": "code",
   "execution_count": 39,
   "metadata": {},
   "outputs": [
    {
     "data": {
      "text/plain": [
       "array([[35],\n",
       "       [23],\n",
       "       [40]], dtype=int64)"
      ]
     },
     "execution_count": 39,
     "metadata": {},
     "output_type": "execute_result"
    }
   ],
   "source": [
    "final.values"
   ]
  },
  {
   "cell_type": "code",
   "execution_count": 41,
   "metadata": {},
   "outputs": [
    {
     "data": {
      "text/plain": [
       "array([23], dtype=int64)"
      ]
     },
     "execution_count": 41,
     "metadata": {},
     "output_type": "execute_result"
    }
   ],
   "source": [
    "final.values[1]"
   ]
  },
  {
   "cell_type": "code",
   "execution_count": 44,
   "metadata": {},
   "outputs": [
    {
     "name": "stdout",
     "output_type": "stream",
     "text": [
      "Internal -  35\n",
      "Internal -  23\n",
      "Internal -  40\n"
     ]
    }
   ],
   "source": [
    "for row in final.values:\n",
    "    print('Internal - ',row[0])"
   ]
  },
  {
   "cell_type": "code",
   "execution_count": 45,
   "metadata": {},
   "outputs": [
    {
     "data": {
      "text/html": [
       "<div>\n",
       "<style>\n",
       "    .dataframe thead tr:only-child th {\n",
       "        text-align: right;\n",
       "    }\n",
       "\n",
       "    .dataframe thead th {\n",
       "        text-align: left;\n",
       "    }\n",
       "\n",
       "    .dataframe tbody tr th {\n",
       "        vertical-align: top;\n",
       "    }\n",
       "</style>\n",
       "<table border=\"1\" class=\"dataframe\">\n",
       "  <thead>\n",
       "    <tr style=\"text-align: right;\">\n",
       "      <th></th>\n",
       "      <th>Internal</th>\n",
       "    </tr>\n",
       "  </thead>\n",
       "  <tbody>\n",
       "    <tr>\n",
       "      <th>s1</th>\n",
       "      <td>35</td>\n",
       "    </tr>\n",
       "    <tr>\n",
       "      <th>s2</th>\n",
       "      <td>23</td>\n",
       "    </tr>\n",
       "    <tr>\n",
       "      <th>s3</th>\n",
       "      <td>40</td>\n",
       "    </tr>\n",
       "    <tr>\n",
       "      <th>s4</th>\n",
       "      <td>20</td>\n",
       "    </tr>\n",
       "  </tbody>\n",
       "</table>\n",
       "</div>"
      ],
      "text/plain": [
       "    Internal\n",
       "s1        35\n",
       "s2        23\n",
       "s3        40\n",
       "s4        20"
      ]
     },
     "execution_count": 45,
     "metadata": {},
     "output_type": "execute_result"
    }
   ],
   "source": [
    "final.loc['s4'] = [20] #loc - specific index of row\n",
    "final"
   ]
  },
  {
   "cell_type": "code",
   "execution_count": 46,
   "metadata": {},
   "outputs": [
    {
     "data": {
      "text/html": [
       "<div>\n",
       "<style>\n",
       "    .dataframe thead tr:only-child th {\n",
       "        text-align: right;\n",
       "    }\n",
       "\n",
       "    .dataframe thead th {\n",
       "        text-align: left;\n",
       "    }\n",
       "\n",
       "    .dataframe tbody tr th {\n",
       "        vertical-align: top;\n",
       "    }\n",
       "</style>\n",
       "<table border=\"1\" class=\"dataframe\">\n",
       "  <thead>\n",
       "    <tr style=\"text-align: right;\">\n",
       "      <th></th>\n",
       "      <th>Internal</th>\n",
       "    </tr>\n",
       "  </thead>\n",
       "  <tbody>\n",
       "    <tr>\n",
       "      <th>s1</th>\n",
       "      <td>35</td>\n",
       "    </tr>\n",
       "    <tr>\n",
       "      <th>s2</th>\n",
       "      <td>23</td>\n",
       "    </tr>\n",
       "    <tr>\n",
       "      <th>s3</th>\n",
       "      <td>50</td>\n",
       "    </tr>\n",
       "    <tr>\n",
       "      <th>s4</th>\n",
       "      <td>20</td>\n",
       "    </tr>\n",
       "  </tbody>\n",
       "</table>\n",
       "</div>"
      ],
      "text/plain": [
       "    Internal\n",
       "s1        35\n",
       "s2        23\n",
       "s3        50\n",
       "s4        20"
      ]
     },
     "execution_count": 46,
     "metadata": {},
     "output_type": "execute_result"
    }
   ],
   "source": [
    "final.values[2] = [50]\n",
    "final"
   ]
  },
  {
   "cell_type": "code",
   "execution_count": 48,
   "metadata": {},
   "outputs": [
    {
     "name": "stdout",
     "output_type": "stream",
     "text": [
      "       GEOID       State   2005   2006   2007   2008   2009   2010   2011  \\\n",
      "0  04000US01     Alabama  37150  37952  42212  44476  39980  40933  42590   \n",
      "1  04000US02      Alaska  55891  56418  62993  63989  61604  57848  57431   \n",
      "2  04000US04     Arizona  45245  46657  62993  46914  45739  46896  48621   \n",
      "3  04000US05    Arkansas  36658  37057  40795  39586  36538  38587  41302   \n",
      "4  04000US06  California  51755  55319  55734  57014  56134  54283  53367   \n",
      "\n",
      "    2012   2013  \n",
      "0  43464  41381  \n",
      "1  63648  61137  \n",
      "2  47044  50602  \n",
      "3  39018  39919  \n",
      "4  57020  57528  \n"
     ]
    }
   ],
   "source": [
    "filePath = 'DataFiles/Income.csv'\n",
    "def readCsvData(filePath):\n",
    "    return pd.read_csv(filePath)\n",
    "df = readCsvData(filePath)\n",
    "print(df)"
   ]
  },
  {
   "cell_type": "code",
   "execution_count": 50,
   "metadata": {},
   "outputs": [
    {
     "name": "stdout",
     "output_type": "stream",
     "text": [
      "Alabama  :  41381\n",
      "Alaska  :  61137\n",
      "Arizona  :  50602\n",
      "Arkansas  :  39919\n",
      "California  :  57528\n"
     ]
    }
   ],
   "source": [
    "for row in df.values:\n",
    "    print(row[1], ' : ',row[-1])"
   ]
  },
  {
   "cell_type": "code",
   "execution_count": 53,
   "metadata": {},
   "outputs": [
    {
     "data": {
      "text/plain": [
       "array([51755, 55319, 55734, 57014, 56134, 54283, 53367, 57020, 57528], dtype=object)"
      ]
     },
     "execution_count": 53,
     "metadata": {},
     "output_type": "execute_result"
    }
   ],
   "source": [
    "def avgofState():\n",
    "    s = 0\n",
    "    for i in range(2,11):\n",
    "        s += df.values[4][2:]\n",
    "    return s // len(df.values[4][2:])\n",
    "avgofState()"
   ]
  },
  {
   "cell_type": "code",
   "execution_count": 54,
   "metadata": {},
   "outputs": [
    {
     "data": {
      "text/plain": [
       "'C:\\\\Users\\\\Vikas'"
      ]
     },
     "execution_count": 54,
     "metadata": {},
     "output_type": "execute_result"
    }
   ],
   "source": [
    "pwd"
   ]
  },
  {
   "cell_type": "code",
   "execution_count": 57,
   "metadata": {},
   "outputs": [
    {
     "data": {
      "text/plain": [
       "['GEOID',\n",
       " 'State',\n",
       " '2005',\n",
       " '2006',\n",
       " '2007',\n",
       " '2008',\n",
       " '2009',\n",
       " '2010',\n",
       " '2011',\n",
       " '2012',\n",
       " '2013']"
      ]
     },
     "execution_count": 57,
     "metadata": {},
     "output_type": "execute_result"
    }
   ],
   "source": [
    "def printDataFrame(df):\n",
    "    li = []\n",
    "    columns = df.columns\n",
    "    for i in columns:\n",
    "        li.append(i)\n",
    "    return li\n",
    "printDataFrame(df)"
   ]
  },
  {
   "cell_type": "code",
   "execution_count": 58,
   "metadata": {},
   "outputs": [
    {
     "name": "stdout",
     "output_type": "stream",
     "text": [
      "        Season  Daynum  Wteam  Wscore  Lteam  Lscore Wloc  Numot\n",
      "0         1985      20   1228      81   1328      64    N      0\n",
      "1         1985      25   1106      77   1354      70    H      0\n",
      "2         1985      25   1112      63   1223      56    H      0\n",
      "3         1985      25   1165      70   1432      54    H      0\n",
      "4         1985      25   1192      86   1447      74    H      0\n",
      "5         1985      25   1218      79   1337      78    H      0\n",
      "6         1985      25   1228      64   1226      44    N      0\n",
      "7         1985      25   1242      58   1268      56    N      0\n",
      "8         1985      25   1260      98   1133      80    H      0\n",
      "9         1985      25   1305      97   1424      89    H      0\n",
      "10        1985      25   1307     103   1288      71    H      0\n",
      "11        1985      25   1344      75   1438      71    N      0\n",
      "12        1985      25   1374      91   1411      72    H      0\n",
      "13        1985      25   1412      70   1397      65    N      0\n",
      "14        1985      25   1417      87   1225      58    H      0\n",
      "15        1985      26   1116      65   1368      62    H      0\n",
      "16        1985      26   1120      92   1391      50    H      0\n",
      "17        1985      26   1135      65   1306      60    A      0\n",
      "18        1985      26   1143      58   1388      53    H      0\n",
      "19        1985      26   1153      50   1184      48    H      0\n",
      "20        1985      26   1165      47   1159      40    A      0\n",
      "21        1985      26   1171      55   1216      52    H      0\n",
      "22        1985      26   1173      76   1134      56    H      0\n",
      "23        1985      26   1177      59   1296      58    H      0\n",
      "24        1985      26   1193      79   1265      76    A      0\n",
      "25        1985      26   1196     106   1416      55    H      0\n",
      "26        1985      26   1206      95   1137      77    H      0\n",
      "27        1985      26   1210      79   1149      66    H      0\n",
      "28        1985      26   1211      64   1102      59    A      0\n",
      "29        1985      26   1234      76   1114      47    H      0\n",
      "...        ...     ...    ...     ...    ...     ...  ...    ...\n",
      "145259    2016     130   1452      69   1328      67    N      0\n",
      "145260    2016     131   1114      72   1418      65    N      0\n",
      "145261    2016     131   1138      64   1103      61    N      0\n",
      "145262    2016     131   1163      77   1396      62    N      0\n",
      "145263    2016     131   1167      57   1308      54    N      0\n",
      "145264    2016     131   1201      68   1361      63    N      0\n",
      "145265    2016     131   1214      81   1354      69    N      0\n",
      "145266    2016     131   1218      64   1253      60    N      0\n",
      "145267    2016     131   1242      81   1452      71    N      0\n",
      "145268    2016     131   1246      93   1208      80    N      0\n",
      "145269    2016     131   1272      74   1408      54    N      0\n",
      "145270    2016     131   1277      64   1268      61    N      0\n",
      "145271    2016     131   1292      55   1330      53    N      0\n",
      "145272    2016     131   1314      61   1438      57    N      0\n",
      "145273    2016     131   1332      88   1428      57    N      0\n",
      "145274    2016     131   1345      76   1276      59    N      0\n",
      "145275    2016     131   1371      69   1437      67    N      0\n",
      "145276    2016     131   1372      82   1394      60    N      0\n",
      "145277    2016     131   1380      54   1238      53    N      0\n",
      "145278    2016     131   1386      82   1173      79    N      0\n",
      "145279    2016     131   1392      80   1436      74    H      0\n",
      "145280    2016     131   1401      71   1261      38    N      0\n",
      "145281    2016     131   1419      82   1426      71    N      0\n",
      "145282    2016     131   1433      76   1172      54    N      0\n",
      "145283    2016     131   1451      62   1285      59    N      0\n",
      "145284    2016     132   1114      70   1419      50    N      0\n",
      "145285    2016     132   1163      72   1272      58    N      0\n",
      "145286    2016     132   1246      82   1401      77    N      1\n",
      "145287    2016     132   1277      66   1345      62    N      0\n",
      "145288    2016     132   1386      87   1433      74    N      0\n",
      "\n",
      "[145289 rows x 8 columns]\n"
     ]
    }
   ],
   "source": [
    "filePath = 'DataFiles/RegularSeasonCompactResults.csv'\n",
    "def readCsvData(filePath):\n",
    "    return pd.read_csv(filePath)\n",
    "df = readCsvData(filePath)\n",
    "print(df)"
   ]
  },
  {
   "cell_type": "code",
   "execution_count": 59,
   "metadata": {},
   "outputs": [
    {
     "data": {
      "text/plain": [
       "(145289, 8)"
      ]
     },
     "execution_count": 59,
     "metadata": {},
     "output_type": "execute_result"
    }
   ],
   "source": [
    "#To know len of rows and columns\n",
    "df.shape"
   ]
  },
  {
   "cell_type": "code",
   "execution_count": 61,
   "metadata": {},
   "outputs": [
    {
     "data": {
      "text/html": [
       "<div>\n",
       "<style>\n",
       "    .dataframe thead tr:only-child th {\n",
       "        text-align: right;\n",
       "    }\n",
       "\n",
       "    .dataframe thead th {\n",
       "        text-align: left;\n",
       "    }\n",
       "\n",
       "    .dataframe tbody tr th {\n",
       "        vertical-align: top;\n",
       "    }\n",
       "</style>\n",
       "<table border=\"1\" class=\"dataframe\">\n",
       "  <thead>\n",
       "    <tr style=\"text-align: right;\">\n",
       "      <th></th>\n",
       "      <th>Season</th>\n",
       "      <th>Daynum</th>\n",
       "      <th>Wteam</th>\n",
       "      <th>Wscore</th>\n",
       "      <th>Lteam</th>\n",
       "      <th>Lscore</th>\n",
       "      <th>Wloc</th>\n",
       "      <th>Numot</th>\n",
       "    </tr>\n",
       "  </thead>\n",
       "  <tbody>\n",
       "    <tr>\n",
       "      <th>0</th>\n",
       "      <td>1985</td>\n",
       "      <td>20</td>\n",
       "      <td>1228</td>\n",
       "      <td>81</td>\n",
       "      <td>1328</td>\n",
       "      <td>64</td>\n",
       "      <td>N</td>\n",
       "      <td>0</td>\n",
       "    </tr>\n",
       "    <tr>\n",
       "      <th>1</th>\n",
       "      <td>1985</td>\n",
       "      <td>25</td>\n",
       "      <td>1106</td>\n",
       "      <td>77</td>\n",
       "      <td>1354</td>\n",
       "      <td>70</td>\n",
       "      <td>H</td>\n",
       "      <td>0</td>\n",
       "    </tr>\n",
       "    <tr>\n",
       "      <th>2</th>\n",
       "      <td>1985</td>\n",
       "      <td>25</td>\n",
       "      <td>1112</td>\n",
       "      <td>63</td>\n",
       "      <td>1223</td>\n",
       "      <td>56</td>\n",
       "      <td>H</td>\n",
       "      <td>0</td>\n",
       "    </tr>\n",
       "    <tr>\n",
       "      <th>3</th>\n",
       "      <td>1985</td>\n",
       "      <td>25</td>\n",
       "      <td>1165</td>\n",
       "      <td>70</td>\n",
       "      <td>1432</td>\n",
       "      <td>54</td>\n",
       "      <td>H</td>\n",
       "      <td>0</td>\n",
       "    </tr>\n",
       "    <tr>\n",
       "      <th>4</th>\n",
       "      <td>1985</td>\n",
       "      <td>25</td>\n",
       "      <td>1192</td>\n",
       "      <td>86</td>\n",
       "      <td>1447</td>\n",
       "      <td>74</td>\n",
       "      <td>H</td>\n",
       "      <td>0</td>\n",
       "    </tr>\n",
       "  </tbody>\n",
       "</table>\n",
       "</div>"
      ],
      "text/plain": [
       "   Season  Daynum  Wteam  Wscore  Lteam  Lscore Wloc  Numot\n",
       "0    1985      20   1228      81   1328      64    N      0\n",
       "1    1985      25   1106      77   1354      70    H      0\n",
       "2    1985      25   1112      63   1223      56    H      0\n",
       "3    1985      25   1165      70   1432      54    H      0\n",
       "4    1985      25   1192      86   1447      74    H      0"
      ]
     },
     "execution_count": 61,
     "metadata": {},
     "output_type": "execute_result"
    }
   ],
   "source": [
    "#To know only first few rows\n",
    "df.head()"
   ]
  },
  {
   "cell_type": "code",
   "execution_count": 63,
   "metadata": {},
   "outputs": [
    {
     "data": {
      "text/html": [
       "<div>\n",
       "<style>\n",
       "    .dataframe thead tr:only-child th {\n",
       "        text-align: right;\n",
       "    }\n",
       "\n",
       "    .dataframe thead th {\n",
       "        text-align: left;\n",
       "    }\n",
       "\n",
       "    .dataframe tbody tr th {\n",
       "        vertical-align: top;\n",
       "    }\n",
       "</style>\n",
       "<table border=\"1\" class=\"dataframe\">\n",
       "  <thead>\n",
       "    <tr style=\"text-align: right;\">\n",
       "      <th></th>\n",
       "      <th>Season</th>\n",
       "      <th>Daynum</th>\n",
       "      <th>Wteam</th>\n",
       "      <th>Wscore</th>\n",
       "      <th>Lteam</th>\n",
       "      <th>Lscore</th>\n",
       "      <th>Wloc</th>\n",
       "      <th>Numot</th>\n",
       "    </tr>\n",
       "  </thead>\n",
       "  <tbody>\n",
       "    <tr>\n",
       "      <th>145284</th>\n",
       "      <td>2016</td>\n",
       "      <td>132</td>\n",
       "      <td>1114</td>\n",
       "      <td>70</td>\n",
       "      <td>1419</td>\n",
       "      <td>50</td>\n",
       "      <td>N</td>\n",
       "      <td>0</td>\n",
       "    </tr>\n",
       "    <tr>\n",
       "      <th>145285</th>\n",
       "      <td>2016</td>\n",
       "      <td>132</td>\n",
       "      <td>1163</td>\n",
       "      <td>72</td>\n",
       "      <td>1272</td>\n",
       "      <td>58</td>\n",
       "      <td>N</td>\n",
       "      <td>0</td>\n",
       "    </tr>\n",
       "    <tr>\n",
       "      <th>145286</th>\n",
       "      <td>2016</td>\n",
       "      <td>132</td>\n",
       "      <td>1246</td>\n",
       "      <td>82</td>\n",
       "      <td>1401</td>\n",
       "      <td>77</td>\n",
       "      <td>N</td>\n",
       "      <td>1</td>\n",
       "    </tr>\n",
       "    <tr>\n",
       "      <th>145287</th>\n",
       "      <td>2016</td>\n",
       "      <td>132</td>\n",
       "      <td>1277</td>\n",
       "      <td>66</td>\n",
       "      <td>1345</td>\n",
       "      <td>62</td>\n",
       "      <td>N</td>\n",
       "      <td>0</td>\n",
       "    </tr>\n",
       "    <tr>\n",
       "      <th>145288</th>\n",
       "      <td>2016</td>\n",
       "      <td>132</td>\n",
       "      <td>1386</td>\n",
       "      <td>87</td>\n",
       "      <td>1433</td>\n",
       "      <td>74</td>\n",
       "      <td>N</td>\n",
       "      <td>0</td>\n",
       "    </tr>\n",
       "  </tbody>\n",
       "</table>\n",
       "</div>"
      ],
      "text/plain": [
       "        Season  Daynum  Wteam  Wscore  Lteam  Lscore Wloc  Numot\n",
       "145284    2016     132   1114      70   1419      50    N      0\n",
       "145285    2016     132   1163      72   1272      58    N      0\n",
       "145286    2016     132   1246      82   1401      77    N      1\n",
       "145287    2016     132   1277      66   1345      62    N      0\n",
       "145288    2016     132   1386      87   1433      74    N      0"
      ]
     },
     "execution_count": 63,
     "metadata": {},
     "output_type": "execute_result"
    }
   ],
   "source": [
    "df.tail() #To know few columns"
   ]
  },
  {
   "cell_type": "code",
   "execution_count": 64,
   "metadata": {},
   "outputs": [
    {
     "data": {
      "text/plain": [
       "['Season', 'Daynum', 'Wteam', 'Wscore', 'Lteam', 'Lscore', 'Wloc', 'Numot']"
      ]
     },
     "execution_count": 64,
     "metadata": {},
     "output_type": "execute_result"
    }
   ],
   "source": [
    "df.columns.tolist()"
   ]
  },
  {
   "cell_type": "code",
   "execution_count": 65,
   "metadata": {},
   "outputs": [
    {
     "data": {
      "text/html": [
       "<div>\n",
       "<style>\n",
       "    .dataframe thead tr:only-child th {\n",
       "        text-align: right;\n",
       "    }\n",
       "\n",
       "    .dataframe thead th {\n",
       "        text-align: left;\n",
       "    }\n",
       "\n",
       "    .dataframe tbody tr th {\n",
       "        vertical-align: top;\n",
       "    }\n",
       "</style>\n",
       "<table border=\"1\" class=\"dataframe\">\n",
       "  <thead>\n",
       "    <tr style=\"text-align: right;\">\n",
       "      <th></th>\n",
       "      <th>Season</th>\n",
       "      <th>Daynum</th>\n",
       "      <th>Wteam</th>\n",
       "      <th>Wscore</th>\n",
       "      <th>Lteam</th>\n",
       "      <th>Lscore</th>\n",
       "      <th>Numot</th>\n",
       "    </tr>\n",
       "  </thead>\n",
       "  <tbody>\n",
       "    <tr>\n",
       "      <th>count</th>\n",
       "      <td>145289.000000</td>\n",
       "      <td>145289.000000</td>\n",
       "      <td>145289.000000</td>\n",
       "      <td>145289.000000</td>\n",
       "      <td>145289.000000</td>\n",
       "      <td>145289.000000</td>\n",
       "      <td>145289.000000</td>\n",
       "    </tr>\n",
       "    <tr>\n",
       "      <th>mean</th>\n",
       "      <td>2001.574834</td>\n",
       "      <td>75.223816</td>\n",
       "      <td>1286.720646</td>\n",
       "      <td>76.600321</td>\n",
       "      <td>1282.864064</td>\n",
       "      <td>64.497009</td>\n",
       "      <td>0.044387</td>\n",
       "    </tr>\n",
       "    <tr>\n",
       "      <th>std</th>\n",
       "      <td>9.233342</td>\n",
       "      <td>33.287418</td>\n",
       "      <td>104.570275</td>\n",
       "      <td>12.173033</td>\n",
       "      <td>104.829234</td>\n",
       "      <td>11.380625</td>\n",
       "      <td>0.247819</td>\n",
       "    </tr>\n",
       "    <tr>\n",
       "      <th>min</th>\n",
       "      <td>1985.000000</td>\n",
       "      <td>0.000000</td>\n",
       "      <td>1101.000000</td>\n",
       "      <td>34.000000</td>\n",
       "      <td>1101.000000</td>\n",
       "      <td>20.000000</td>\n",
       "      <td>0.000000</td>\n",
       "    </tr>\n",
       "    <tr>\n",
       "      <th>25%</th>\n",
       "      <td>1994.000000</td>\n",
       "      <td>47.000000</td>\n",
       "      <td>1198.000000</td>\n",
       "      <td>68.000000</td>\n",
       "      <td>1191.000000</td>\n",
       "      <td>57.000000</td>\n",
       "      <td>0.000000</td>\n",
       "    </tr>\n",
       "    <tr>\n",
       "      <th>50%</th>\n",
       "      <td>2002.000000</td>\n",
       "      <td>78.000000</td>\n",
       "      <td>1284.000000</td>\n",
       "      <td>76.000000</td>\n",
       "      <td>1280.000000</td>\n",
       "      <td>64.000000</td>\n",
       "      <td>0.000000</td>\n",
       "    </tr>\n",
       "    <tr>\n",
       "      <th>75%</th>\n",
       "      <td>2010.000000</td>\n",
       "      <td>103.000000</td>\n",
       "      <td>1379.000000</td>\n",
       "      <td>84.000000</td>\n",
       "      <td>1375.000000</td>\n",
       "      <td>72.000000</td>\n",
       "      <td>0.000000</td>\n",
       "    </tr>\n",
       "    <tr>\n",
       "      <th>max</th>\n",
       "      <td>2016.000000</td>\n",
       "      <td>132.000000</td>\n",
       "      <td>1464.000000</td>\n",
       "      <td>186.000000</td>\n",
       "      <td>1464.000000</td>\n",
       "      <td>150.000000</td>\n",
       "      <td>6.000000</td>\n",
       "    </tr>\n",
       "  </tbody>\n",
       "</table>\n",
       "</div>"
      ],
      "text/plain": [
       "              Season         Daynum          Wteam         Wscore  \\\n",
       "count  145289.000000  145289.000000  145289.000000  145289.000000   \n",
       "mean     2001.574834      75.223816    1286.720646      76.600321   \n",
       "std         9.233342      33.287418     104.570275      12.173033   \n",
       "min      1985.000000       0.000000    1101.000000      34.000000   \n",
       "25%      1994.000000      47.000000    1198.000000      68.000000   \n",
       "50%      2002.000000      78.000000    1284.000000      76.000000   \n",
       "75%      2010.000000     103.000000    1379.000000      84.000000   \n",
       "max      2016.000000     132.000000    1464.000000     186.000000   \n",
       "\n",
       "               Lteam         Lscore          Numot  \n",
       "count  145289.000000  145289.000000  145289.000000  \n",
       "mean     1282.864064      64.497009       0.044387  \n",
       "std       104.829234      11.380625       0.247819  \n",
       "min      1101.000000      20.000000       0.000000  \n",
       "25%      1191.000000      57.000000       0.000000  \n",
       "50%      1280.000000      64.000000       0.000000  \n",
       "75%      1375.000000      72.000000       0.000000  \n",
       "max      1464.000000     150.000000       6.000000  "
      ]
     },
     "execution_count": 65,
     "metadata": {},
     "output_type": "execute_result"
    }
   ],
   "source": [
    "df.describe()"
   ]
  },
  {
   "cell_type": "code",
   "execution_count": 66,
   "metadata": {},
   "outputs": [
    {
     "data": {
      "text/plain": [
       "Season    2016\n",
       "Daynum     132\n",
       "Wteam     1464\n",
       "Wscore     186\n",
       "Lteam     1464\n",
       "Lscore     150\n",
       "Wloc         N\n",
       "Numot        6\n",
       "dtype: object"
      ]
     },
     "execution_count": 66,
     "metadata": {},
     "output_type": "execute_result"
    }
   ],
   "source": [
    "df.max()"
   ]
  },
  {
   "cell_type": "code",
   "execution_count": 72,
   "metadata": {},
   "outputs": [
    {
     "data": {
      "text/plain": [
       "1464"
      ]
     },
     "execution_count": 72,
     "metadata": {},
     "output_type": "execute_result"
    }
   ],
   "source": [
    "df['Lteam'].max() # Max one column value"
   ]
  },
  {
   "cell_type": "code",
   "execution_count": 71,
   "metadata": {},
   "outputs": [
    {
     "data": {
      "text/plain": [
       "1101"
      ]
     },
     "execution_count": 71,
     "metadata": {},
     "output_type": "execute_result"
    }
   ],
   "source": [
    "df['Lteam'].min() # Min one column value"
   ]
  },
  {
   "cell_type": "code",
   "execution_count": 77,
   "metadata": {},
   "outputs": [
    {
     "data": {
      "text/plain": [
       "186386037"
      ]
     },
     "execution_count": 77,
     "metadata": {},
     "output_type": "execute_result"
    }
   ],
   "source": [
    "df['Lteam'].sum()"
   ]
  },
  {
   "cell_type": "code",
   "execution_count": 78,
   "metadata": {},
   "outputs": [
    {
     "data": {
      "text/plain": [
       "1282.864064037883"
      ]
     },
     "execution_count": 78,
     "metadata": {},
     "output_type": "execute_result"
    }
   ],
   "source": [
    "df['Lteam'].mean()"
   ]
  },
  {
   "cell_type": "code",
   "execution_count": 79,
   "metadata": {},
   "outputs": [
    {
     "data": {
      "text/plain": [
       "2016    5369\n",
       "2014    5362\n",
       "2015    5354\n",
       "2013    5320\n",
       "2010    5263\n",
       "2012    5253\n",
       "2009    5249\n",
       "2011    5246\n",
       "2008    5163\n",
       "2007    5043\n",
       "2006    4757\n",
       "2005    4675\n",
       "2003    4616\n",
       "2004    4571\n",
       "2002    4555\n",
       "2000    4519\n",
       "2001    4467\n",
       "1999    4222\n",
       "1998    4167\n",
       "1997    4155\n",
       "1992    4127\n",
       "1991    4123\n",
       "1996    4122\n",
       "1995    4077\n",
       "1994    4060\n",
       "1990    4045\n",
       "1989    4037\n",
       "1993    3982\n",
       "1988    3955\n",
       "1987    3915\n",
       "1986    3783\n",
       "1985    3737\n",
       "Name: Season, dtype: int64"
      ]
     },
     "execution_count": 79,
     "metadata": {},
     "output_type": "execute_result"
    }
   ],
   "source": [
    "df['Season'].value_counts() # No of games in each session "
   ]
  },
  {
   "cell_type": "code",
   "execution_count": 80,
   "metadata": {},
   "outputs": [
    {
     "data": {
      "text/html": [
       "<div>\n",
       "<style>\n",
       "    .dataframe thead tr:only-child th {\n",
       "        text-align: right;\n",
       "    }\n",
       "\n",
       "    .dataframe thead th {\n",
       "        text-align: left;\n",
       "    }\n",
       "\n",
       "    .dataframe tbody tr th {\n",
       "        vertical-align: top;\n",
       "    }\n",
       "</style>\n",
       "<table border=\"1\" class=\"dataframe\">\n",
       "  <thead>\n",
       "    <tr style=\"text-align: right;\">\n",
       "      <th></th>\n",
       "      <th>Season</th>\n",
       "      <th>Daynum</th>\n",
       "      <th>Wteam</th>\n",
       "      <th>Wscore</th>\n",
       "      <th>Lteam</th>\n",
       "      <th>Lscore</th>\n",
       "      <th>Wloc</th>\n",
       "      <th>Numot</th>\n",
       "    </tr>\n",
       "  </thead>\n",
       "  <tbody>\n",
       "    <tr>\n",
       "      <th>0</th>\n",
       "      <td>1985</td>\n",
       "      <td>20</td>\n",
       "      <td>1228</td>\n",
       "      <td>81</td>\n",
       "      <td>1328</td>\n",
       "      <td>64</td>\n",
       "      <td>N</td>\n",
       "      <td>0</td>\n",
       "    </tr>\n",
       "    <tr>\n",
       "      <th>1</th>\n",
       "      <td>1985</td>\n",
       "      <td>25</td>\n",
       "      <td>1106</td>\n",
       "      <td>77</td>\n",
       "      <td>1354</td>\n",
       "      <td>70</td>\n",
       "      <td>H</td>\n",
       "      <td>0</td>\n",
       "    </tr>\n",
       "    <tr>\n",
       "      <th>2</th>\n",
       "      <td>1985</td>\n",
       "      <td>25</td>\n",
       "      <td>1112</td>\n",
       "      <td>63</td>\n",
       "      <td>1223</td>\n",
       "      <td>56</td>\n",
       "      <td>H</td>\n",
       "      <td>0</td>\n",
       "    </tr>\n",
       "    <tr>\n",
       "      <th>3</th>\n",
       "      <td>1985</td>\n",
       "      <td>25</td>\n",
       "      <td>1165</td>\n",
       "      <td>70</td>\n",
       "      <td>1432</td>\n",
       "      <td>54</td>\n",
       "      <td>H</td>\n",
       "      <td>0</td>\n",
       "    </tr>\n",
       "  </tbody>\n",
       "</table>\n",
       "</div>"
      ],
      "text/plain": [
       "   Season  Daynum  Wteam  Wscore  Lteam  Lscore Wloc  Numot\n",
       "0    1985      20   1228      81   1328      64    N      0\n",
       "1    1985      25   1106      77   1354      70    H      0\n",
       "2    1985      25   1112      63   1223      56    H      0\n",
       "3    1985      25   1165      70   1432      54    H      0"
      ]
     },
     "execution_count": 80,
     "metadata": {},
     "output_type": "execute_result"
    }
   ],
   "source": [
    "df.loc[:3]"
   ]
  },
  {
   "cell_type": "code",
   "execution_count": 81,
   "metadata": {},
   "outputs": [
    {
     "data": {
      "text/html": [
       "<div>\n",
       "<style>\n",
       "    .dataframe thead tr:only-child th {\n",
       "        text-align: right;\n",
       "    }\n",
       "\n",
       "    .dataframe thead th {\n",
       "        text-align: left;\n",
       "    }\n",
       "\n",
       "    .dataframe tbody tr th {\n",
       "        vertical-align: top;\n",
       "    }\n",
       "</style>\n",
       "<table border=\"1\" class=\"dataframe\">\n",
       "  <thead>\n",
       "    <tr style=\"text-align: right;\">\n",
       "      <th></th>\n",
       "      <th>Season</th>\n",
       "      <th>Daynum</th>\n",
       "      <th>Wteam</th>\n",
       "      <th>Wscore</th>\n",
       "      <th>Lteam</th>\n",
       "      <th>Lscore</th>\n",
       "      <th>Wloc</th>\n",
       "      <th>Numot</th>\n",
       "    </tr>\n",
       "  </thead>\n",
       "  <tbody>\n",
       "    <tr>\n",
       "      <th>0</th>\n",
       "      <td>1985</td>\n",
       "      <td>20</td>\n",
       "      <td>1228</td>\n",
       "      <td>81</td>\n",
       "      <td>1328</td>\n",
       "      <td>64</td>\n",
       "      <td>N</td>\n",
       "      <td>0</td>\n",
       "    </tr>\n",
       "    <tr>\n",
       "      <th>1</th>\n",
       "      <td>1985</td>\n",
       "      <td>25</td>\n",
       "      <td>1106</td>\n",
       "      <td>77</td>\n",
       "      <td>1354</td>\n",
       "      <td>70</td>\n",
       "      <td>H</td>\n",
       "      <td>0</td>\n",
       "    </tr>\n",
       "    <tr>\n",
       "      <th>2</th>\n",
       "      <td>1985</td>\n",
       "      <td>25</td>\n",
       "      <td>1112</td>\n",
       "      <td>63</td>\n",
       "      <td>1223</td>\n",
       "      <td>56</td>\n",
       "      <td>H</td>\n",
       "      <td>0</td>\n",
       "    </tr>\n",
       "  </tbody>\n",
       "</table>\n",
       "</div>"
      ],
      "text/plain": [
       "   Season  Daynum  Wteam  Wscore  Lteam  Lscore Wloc  Numot\n",
       "0    1985      20   1228      81   1328      64    N      0\n",
       "1    1985      25   1106      77   1354      70    H      0\n",
       "2    1985      25   1112      63   1223      56    H      0"
      ]
     },
     "execution_count": 81,
     "metadata": {},
     "output_type": "execute_result"
    }
   ],
   "source": [
    "df.iloc[:3] # i --> index value"
   ]
  },
  {
   "cell_type": "code",
   "execution_count": 82,
   "metadata": {},
   "outputs": [
    {
     "data": {
      "text/html": [
       "<div>\n",
       "<style>\n",
       "    .dataframe thead tr:only-child th {\n",
       "        text-align: right;\n",
       "    }\n",
       "\n",
       "    .dataframe thead th {\n",
       "        text-align: left;\n",
       "    }\n",
       "\n",
       "    .dataframe tbody tr th {\n",
       "        vertical-align: top;\n",
       "    }\n",
       "</style>\n",
       "<table border=\"1\" class=\"dataframe\">\n",
       "  <thead>\n",
       "    <tr style=\"text-align: right;\">\n",
       "      <th></th>\n",
       "      <th>Season</th>\n",
       "      <th>Daynum</th>\n",
       "      <th>Wteam</th>\n",
       "      <th>Wscore</th>\n",
       "      <th>Lteam</th>\n",
       "      <th>Lscore</th>\n",
       "      <th>Wloc</th>\n",
       "      <th>Numot</th>\n",
       "    </tr>\n",
       "  </thead>\n",
       "  <tbody>\n",
       "    <tr>\n",
       "      <th>100027</th>\n",
       "      <td>2008</td>\n",
       "      <td>66</td>\n",
       "      <td>1203</td>\n",
       "      <td>49</td>\n",
       "      <td>1387</td>\n",
       "      <td>20</td>\n",
       "      <td>H</td>\n",
       "      <td>0</td>\n",
       "    </tr>\n",
       "    <tr>\n",
       "      <th>49310</th>\n",
       "      <td>1997</td>\n",
       "      <td>66</td>\n",
       "      <td>1157</td>\n",
       "      <td>61</td>\n",
       "      <td>1204</td>\n",
       "      <td>21</td>\n",
       "      <td>H</td>\n",
       "      <td>0</td>\n",
       "    </tr>\n",
       "    <tr>\n",
       "      <th>89021</th>\n",
       "      <td>2006</td>\n",
       "      <td>44</td>\n",
       "      <td>1284</td>\n",
       "      <td>41</td>\n",
       "      <td>1343</td>\n",
       "      <td>21</td>\n",
       "      <td>A</td>\n",
       "      <td>0</td>\n",
       "    </tr>\n",
       "    <tr>\n",
       "      <th>85042</th>\n",
       "      <td>2005</td>\n",
       "      <td>66</td>\n",
       "      <td>1131</td>\n",
       "      <td>73</td>\n",
       "      <td>1216</td>\n",
       "      <td>22</td>\n",
       "      <td>H</td>\n",
       "      <td>0</td>\n",
       "    </tr>\n",
       "    <tr>\n",
       "      <th>103660</th>\n",
       "      <td>2009</td>\n",
       "      <td>26</td>\n",
       "      <td>1326</td>\n",
       "      <td>59</td>\n",
       "      <td>1359</td>\n",
       "      <td>22</td>\n",
       "      <td>H</td>\n",
       "      <td>0</td>\n",
       "    </tr>\n",
       "  </tbody>\n",
       "</table>\n",
       "</div>"
      ],
      "text/plain": [
       "        Season  Daynum  Wteam  Wscore  Lteam  Lscore Wloc  Numot\n",
       "100027    2008      66   1203      49   1387      20    H      0\n",
       "49310     1997      66   1157      61   1204      21    H      0\n",
       "89021     2006      44   1284      41   1343      21    A      0\n",
       "85042     2005      66   1131      73   1216      22    H      0\n",
       "103660    2009      26   1326      59   1359      22    H      0"
      ]
     },
     "execution_count": 82,
     "metadata": {},
     "output_type": "execute_result"
    }
   ],
   "source": [
    "df.sort_values('Lscore').head()"
   ]
  },
  {
   "cell_type": "code",
   "execution_count": 83,
   "metadata": {},
   "outputs": [
    {
     "data": {
      "text/html": [
       "<div>\n",
       "<style>\n",
       "    .dataframe thead tr:only-child th {\n",
       "        text-align: right;\n",
       "    }\n",
       "\n",
       "    .dataframe thead th {\n",
       "        text-align: left;\n",
       "    }\n",
       "\n",
       "    .dataframe tbody tr th {\n",
       "        vertical-align: top;\n",
       "    }\n",
       "</style>\n",
       "<table border=\"1\" class=\"dataframe\">\n",
       "  <thead>\n",
       "    <tr style=\"text-align: right;\">\n",
       "      <th></th>\n",
       "      <th>Season</th>\n",
       "      <th>Daynum</th>\n",
       "      <th>Wteam</th>\n",
       "      <th>Wscore</th>\n",
       "      <th>Lteam</th>\n",
       "      <th>Lscore</th>\n",
       "      <th>Wloc</th>\n",
       "      <th>Numot</th>\n",
       "    </tr>\n",
       "  </thead>\n",
       "  <tbody>\n",
       "    <tr>\n",
       "      <th>77873</th>\n",
       "      <td>2003</td>\n",
       "      <td>110</td>\n",
       "      <td>1383</td>\n",
       "      <td>142</td>\n",
       "      <td>1254</td>\n",
       "      <td>140</td>\n",
       "      <td>H</td>\n",
       "      <td>2</td>\n",
       "    </tr>\n",
       "    <tr>\n",
       "      <th>24970</th>\n",
       "      <td>1991</td>\n",
       "      <td>68</td>\n",
       "      <td>1258</td>\n",
       "      <td>186</td>\n",
       "      <td>1109</td>\n",
       "      <td>140</td>\n",
       "      <td>H</td>\n",
       "      <td>0</td>\n",
       "    </tr>\n",
       "    <tr>\n",
       "      <th>22074</th>\n",
       "      <td>1990</td>\n",
       "      <td>96</td>\n",
       "      <td>1261</td>\n",
       "      <td>148</td>\n",
       "      <td>1258</td>\n",
       "      <td>141</td>\n",
       "      <td>H</td>\n",
       "      <td>0</td>\n",
       "    </tr>\n",
       "    <tr>\n",
       "      <th>16853</th>\n",
       "      <td>1989</td>\n",
       "      <td>68</td>\n",
       "      <td>1258</td>\n",
       "      <td>162</td>\n",
       "      <td>1109</td>\n",
       "      <td>144</td>\n",
       "      <td>A</td>\n",
       "      <td>0</td>\n",
       "    </tr>\n",
       "    <tr>\n",
       "      <th>17867</th>\n",
       "      <td>1989</td>\n",
       "      <td>92</td>\n",
       "      <td>1258</td>\n",
       "      <td>181</td>\n",
       "      <td>1109</td>\n",
       "      <td>150</td>\n",
       "      <td>H</td>\n",
       "      <td>0</td>\n",
       "    </tr>\n",
       "  </tbody>\n",
       "</table>\n",
       "</div>"
      ],
      "text/plain": [
       "       Season  Daynum  Wteam  Wscore  Lteam  Lscore Wloc  Numot\n",
       "77873    2003     110   1383     142   1254     140    H      2\n",
       "24970    1991      68   1258     186   1109     140    H      0\n",
       "22074    1990      96   1261     148   1258     141    H      0\n",
       "16853    1989      68   1258     162   1109     144    A      0\n",
       "17867    1989      92   1258     181   1109     150    H      0"
      ]
     },
     "execution_count": 83,
     "metadata": {},
     "output_type": "execute_result"
    }
   ],
   "source": [
    "df.sort_values('Lscore').tail()"
   ]
  },
  {
   "cell_type": "code",
   "execution_count": 85,
   "metadata": {},
   "outputs": [
    {
     "data": {
      "text/html": [
       "<div>\n",
       "<style>\n",
       "    .dataframe thead tr:only-child th {\n",
       "        text-align: right;\n",
       "    }\n",
       "\n",
       "    .dataframe thead th {\n",
       "        text-align: left;\n",
       "    }\n",
       "\n",
       "    .dataframe tbody tr th {\n",
       "        vertical-align: top;\n",
       "    }\n",
       "</style>\n",
       "<table border=\"1\" class=\"dataframe\">\n",
       "  <thead>\n",
       "    <tr style=\"text-align: right;\">\n",
       "      <th></th>\n",
       "      <th>Season</th>\n",
       "      <th>Daynum</th>\n",
       "      <th>Wteam</th>\n",
       "      <th>Wscore</th>\n",
       "      <th>Lteam</th>\n",
       "      <th>Lscore</th>\n",
       "      <th>Wloc</th>\n",
       "      <th>Numot</th>\n",
       "    </tr>\n",
       "  </thead>\n",
       "  <tbody>\n",
       "    <tr>\n",
       "      <th>17867</th>\n",
       "      <td>1989</td>\n",
       "      <td>92</td>\n",
       "      <td>1258</td>\n",
       "      <td>181</td>\n",
       "      <td>1109</td>\n",
       "      <td>150</td>\n",
       "      <td>H</td>\n",
       "      <td>0</td>\n",
       "    </tr>\n",
       "    <tr>\n",
       "      <th>19653</th>\n",
       "      <td>1990</td>\n",
       "      <td>30</td>\n",
       "      <td>1328</td>\n",
       "      <td>173</td>\n",
       "      <td>1109</td>\n",
       "      <td>101</td>\n",
       "      <td>H</td>\n",
       "      <td>0</td>\n",
       "    </tr>\n",
       "    <tr>\n",
       "      <th>24341</th>\n",
       "      <td>1991</td>\n",
       "      <td>47</td>\n",
       "      <td>1328</td>\n",
       "      <td>172</td>\n",
       "      <td>1258</td>\n",
       "      <td>112</td>\n",
       "      <td>H</td>\n",
       "      <td>0</td>\n",
       "    </tr>\n",
       "    <tr>\n",
       "      <th>24970</th>\n",
       "      <td>1991</td>\n",
       "      <td>68</td>\n",
       "      <td>1258</td>\n",
       "      <td>186</td>\n",
       "      <td>1109</td>\n",
       "      <td>140</td>\n",
       "      <td>H</td>\n",
       "      <td>0</td>\n",
       "    </tr>\n",
       "  </tbody>\n",
       "</table>\n",
       "</div>"
      ],
      "text/plain": [
       "       Season  Daynum  Wteam  Wscore  Lteam  Lscore Wloc  Numot\n",
       "17867    1989      92   1258     181   1109     150    H      0\n",
       "19653    1990      30   1328     173   1109     101    H      0\n",
       "24341    1991      47   1328     172   1258     112    H      0\n",
       "24970    1991      68   1258     186   1109     140    H      0"
      ]
     },
     "execution_count": 85,
     "metadata": {},
     "output_type": "execute_result"
    }
   ],
   "source": [
    "# filter the rows based on condition\n",
    "df[df['Wscore']>170]"
   ]
  },
  {
   "cell_type": "code",
   "execution_count": 86,
   "metadata": {},
   "outputs": [
    {
     "data": {
      "text/html": [
       "<div>\n",
       "<style>\n",
       "    .dataframe thead tr:only-child th {\n",
       "        text-align: right;\n",
       "    }\n",
       "\n",
       "    .dataframe thead th {\n",
       "        text-align: left;\n",
       "    }\n",
       "\n",
       "    .dataframe tbody tr th {\n",
       "        vertical-align: top;\n",
       "    }\n",
       "</style>\n",
       "<table border=\"1\" class=\"dataframe\">\n",
       "  <thead>\n",
       "    <tr style=\"text-align: right;\">\n",
       "      <th></th>\n",
       "      <th>Season</th>\n",
       "      <th>Daynum</th>\n",
       "      <th>Wteam</th>\n",
       "      <th>Wscore</th>\n",
       "      <th>Lteam</th>\n",
       "      <th>Lscore</th>\n",
       "      <th>Wloc</th>\n",
       "      <th>Numot</th>\n",
       "    </tr>\n",
       "  </thead>\n",
       "  <tbody>\n",
       "    <tr>\n",
       "      <th>17867</th>\n",
       "      <td>1989</td>\n",
       "      <td>92</td>\n",
       "      <td>1258</td>\n",
       "      <td>181</td>\n",
       "      <td>1109</td>\n",
       "      <td>150</td>\n",
       "      <td>H</td>\n",
       "      <td>0</td>\n",
       "    </tr>\n",
       "    <tr>\n",
       "      <th>24970</th>\n",
       "      <td>1991</td>\n",
       "      <td>68</td>\n",
       "      <td>1258</td>\n",
       "      <td>186</td>\n",
       "      <td>1109</td>\n",
       "      <td>140</td>\n",
       "      <td>H</td>\n",
       "      <td>0</td>\n",
       "    </tr>\n",
       "  </tbody>\n",
       "</table>\n",
       "</div>"
      ],
      "text/plain": [
       "       Season  Daynum  Wteam  Wscore  Lteam  Lscore Wloc  Numot\n",
       "17867    1989      92   1258     181   1109     150    H      0\n",
       "24970    1991      68   1258     186   1109     140    H      0"
      ]
     },
     "execution_count": 86,
     "metadata": {},
     "output_type": "execute_result"
    }
   ],
   "source": [
    "df[(df['Wscore']>170) & (df['Daynum']>60)]"
   ]
  },
  {
   "cell_type": "code",
   "execution_count": null,
   "metadata": {
    "collapsed": true
   },
   "outputs": [],
   "source": []
  },
  {
   "cell_type": "code",
   "execution_count": null,
   "metadata": {
    "collapsed": true
   },
   "outputs": [],
   "source": []
  },
  {
   "cell_type": "code",
   "execution_count": null,
   "metadata": {
    "collapsed": true
   },
   "outputs": [],
   "source": []
  },
  {
   "cell_type": "code",
   "execution_count": null,
   "metadata": {
    "collapsed": true
   },
   "outputs": [],
   "source": []
  },
  {
   "cell_type": "code",
   "execution_count": null,
   "metadata": {
    "collapsed": true
   },
   "outputs": [],
   "source": []
  },
  {
   "cell_type": "code",
   "execution_count": null,
   "metadata": {
    "collapsed": true
   },
   "outputs": [],
   "source": []
  },
  {
   "cell_type": "code",
   "execution_count": null,
   "metadata": {
    "collapsed": true
   },
   "outputs": [],
   "source": []
  },
  {
   "cell_type": "code",
   "execution_count": null,
   "metadata": {
    "collapsed": true
   },
   "outputs": [],
   "source": []
  },
  {
   "cell_type": "code",
   "execution_count": null,
   "metadata": {
    "collapsed": true
   },
   "outputs": [],
   "source": []
  },
  {
   "cell_type": "code",
   "execution_count": null,
   "metadata": {
    "collapsed": true
   },
   "outputs": [],
   "source": []
  },
  {
   "cell_type": "code",
   "execution_count": null,
   "metadata": {
    "collapsed": true
   },
   "outputs": [],
   "source": []
  },
  {
   "cell_type": "code",
   "execution_count": null,
   "metadata": {
    "collapsed": true
   },
   "outputs": [],
   "source": []
  },
  {
   "cell_type": "code",
   "execution_count": null,
   "metadata": {
    "collapsed": true
   },
   "outputs": [],
   "source": []
  }
 ],
 "metadata": {
  "kernelspec": {
   "display_name": "Python 3",
   "language": "python",
   "name": "python3"
  },
  "language_info": {
   "codemirror_mode": {
    "name": "ipython",
    "version": 3
   },
   "file_extension": ".py",
   "mimetype": "text/x-python",
   "name": "python",
   "nbconvert_exporter": "python",
   "pygments_lexer": "ipython3",
   "version": "3.6.3"
  }
 },
 "nbformat": 4,
 "nbformat_minor": 2
}
